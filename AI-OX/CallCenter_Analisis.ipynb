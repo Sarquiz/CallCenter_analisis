{
 "cells": [
  {
   "cell_type": "markdown",
   "metadata": {},
   "source": [
    "# Objetivos: \n",
    "    identifiar  responder los siguientes preguntas:\n",
    "        1. Identif current trends in customer sastisfaction\n",
    "        2. Understand where customer are having issues\n",
    "        3. How many customers call in, from where?\n",
    "        4. what are the biggest pain points?\n",
    "        5. Recommendations for CSAT Targets"
   ]
  },
  {
   "cell_type": "code",
   "execution_count": 7,
   "metadata": {},
   "outputs": [
    {
     "data": {
      "text/html": [
       "        <script type=\"text/javascript\">\n",
       "        window.PlotlyConfig = {MathJaxConfig: 'local'};\n",
       "        if (window.MathJax) {MathJax.Hub.Config({SVG: {font: \"STIX-Web\"}});}\n",
       "        if (typeof require !== 'undefined') {\n",
       "        require.undef(\"plotly\");\n",
       "        requirejs.config({\n",
       "            paths: {\n",
       "                'plotly': ['https://cdn.plot.ly/plotly-latest.min']\n",
       "            }\n",
       "        });\n",
       "        require(['plotly'], function(Plotly) {\n",
       "            window._Plotly = Plotly;\n",
       "        });\n",
       "        }\n",
       "        </script>\n",
       "        "
      ]
     },
     "metadata": {},
     "output_type": "display_data"
    },
    {
     "name": "stdout",
     "output_type": "stream",
     "text": [
      "Setup Complete\n"
     ]
    }
   ],
   "source": [
    "#Importar librerias requeridas\n",
    "import pandas as pd\n",
    "import numpy as np\n",
    "import matplotlib.pyplot as plt\n",
    "import matplotlib as pl\n",
    "import seaborn as sns\n",
    "import plotly\n",
    "plotly.offline.init_notebook_mode(connected=True)\n",
    "import plotly.graph_objs as go\n",
    "sns.set_style('darkgrid')\n",
    "import warnings\n",
    "warnings.filterwarnings('ignore')\n",
    "print('Setup Complete')"
   ]
  },
  {
   "cell_type": "code",
   "execution_count": 2,
   "metadata": {},
   "outputs": [
    {
     "data": {
      "text/html": [
       "<div>\n",
       "<style scoped>\n",
       "    .dataframe tbody tr th:only-of-type {\n",
       "        vertical-align: middle;\n",
       "    }\n",
       "\n",
       "    .dataframe tbody tr th {\n",
       "        vertical-align: top;\n",
       "    }\n",
       "\n",
       "    .dataframe thead th {\n",
       "        text-align: right;\n",
       "    }\n",
       "</style>\n",
       "<table border=\"1\" class=\"dataframe\">\n",
       "  <thead>\n",
       "    <tr style=\"text-align: right;\">\n",
       "      <th></th>\n",
       "      <th>Customer Country/Region</th>\n",
       "      <th>Issue Code 1</th>\n",
       "      <th>Service Request Id</th>\n",
       "      <th>Support Center Filter</th>\n",
       "      <th>Support Channel</th>\n",
       "      <th>Ticket Close Date</th>\n",
       "      <th>Ticket Create Date</th>\n",
       "      <th>Vendor - Site</th>\n",
       "      <th>Time To Close</th>\n",
       "    </tr>\n",
       "  </thead>\n",
       "  <tbody>\n",
       "    <tr>\n",
       "      <th>0</th>\n",
       "      <td>United States</td>\n",
       "      <td>Account Access</td>\n",
       "      <td>1278326353</td>\n",
       "      <td>True</td>\n",
       "      <td>Chat</td>\n",
       "      <td>2015-02-01</td>\n",
       "      <td>2015-02-01</td>\n",
       "      <td>Support Center B</td>\n",
       "      <td>0.0</td>\n",
       "    </tr>\n",
       "    <tr>\n",
       "      <th>1</th>\n",
       "      <td>United States</td>\n",
       "      <td>Account Access</td>\n",
       "      <td>1278330809</td>\n",
       "      <td>True</td>\n",
       "      <td>Chat</td>\n",
       "      <td>2015-02-01</td>\n",
       "      <td>2015-02-01</td>\n",
       "      <td>Support Center B</td>\n",
       "      <td>0.0</td>\n",
       "    </tr>\n",
       "    <tr>\n",
       "      <th>2</th>\n",
       "      <td>India</td>\n",
       "      <td>Accreditation Program</td>\n",
       "      <td>1278348606</td>\n",
       "      <td>True</td>\n",
       "      <td>Chat</td>\n",
       "      <td>2015-02-01</td>\n",
       "      <td>2015-02-01</td>\n",
       "      <td>Support Center B</td>\n",
       "      <td>0.0</td>\n",
       "    </tr>\n",
       "    <tr>\n",
       "      <th>3</th>\n",
       "      <td>United States</td>\n",
       "      <td>Ad and Keyword Management</td>\n",
       "      <td>1278345988</td>\n",
       "      <td>True</td>\n",
       "      <td>Chat</td>\n",
       "      <td>2015-02-01</td>\n",
       "      <td>2015-02-01</td>\n",
       "      <td>Support Center B</td>\n",
       "      <td>0.0</td>\n",
       "    </tr>\n",
       "    <tr>\n",
       "      <th>4</th>\n",
       "      <td>United States</td>\n",
       "      <td>Ad and Keyword Management</td>\n",
       "      <td>1278344530</td>\n",
       "      <td>True</td>\n",
       "      <td>Chat</td>\n",
       "      <td>2015-02-01</td>\n",
       "      <td>2015-02-01</td>\n",
       "      <td>Support Center B</td>\n",
       "      <td>0.0</td>\n",
       "    </tr>\n",
       "    <tr>\n",
       "      <th>...</th>\n",
       "      <td>...</td>\n",
       "      <td>...</td>\n",
       "      <td>...</td>\n",
       "      <td>...</td>\n",
       "      <td>...</td>\n",
       "      <td>...</td>\n",
       "      <td>...</td>\n",
       "      <td>...</td>\n",
       "      <td>...</td>\n",
       "    </tr>\n",
       "    <tr>\n",
       "      <th>218680</th>\n",
       "      <td>Israel</td>\n",
       "      <td>Tools</td>\n",
       "      <td>1324956430</td>\n",
       "      <td>True</td>\n",
       "      <td>Chat</td>\n",
       "      <td>2016-02-12</td>\n",
       "      <td>2016-01-31</td>\n",
       "      <td>Support Center B</td>\n",
       "      <td>12.0</td>\n",
       "    </tr>\n",
       "    <tr>\n",
       "      <th>218681</th>\n",
       "      <td>United States</td>\n",
       "      <td>Unknown charges</td>\n",
       "      <td>1324974165</td>\n",
       "      <td>True</td>\n",
       "      <td>Chat</td>\n",
       "      <td>2016-02-12</td>\n",
       "      <td>2016-01-31</td>\n",
       "      <td>Support Center B</td>\n",
       "      <td>12.0</td>\n",
       "    </tr>\n",
       "    <tr>\n",
       "      <th>218682</th>\n",
       "      <td>United States</td>\n",
       "      <td>Billing &amp; Payments</td>\n",
       "      <td>1324989334</td>\n",
       "      <td>True</td>\n",
       "      <td>Chat</td>\n",
       "      <td>2016-02-13</td>\n",
       "      <td>2016-01-31</td>\n",
       "      <td>Support Center B</td>\n",
       "      <td>13.0</td>\n",
       "    </tr>\n",
       "    <tr>\n",
       "      <th>218683</th>\n",
       "      <td>Canada</td>\n",
       "      <td>Ad and Keyword Management</td>\n",
       "      <td>1325007802</td>\n",
       "      <td>True</td>\n",
       "      <td>Chat</td>\n",
       "      <td>2016-02-16</td>\n",
       "      <td>2016-01-31</td>\n",
       "      <td>Support Center B</td>\n",
       "      <td>16.0</td>\n",
       "    </tr>\n",
       "    <tr>\n",
       "      <th>218684</th>\n",
       "      <td>United States</td>\n",
       "      <td>New Advertiser or New Account</td>\n",
       "      <td>1324998464</td>\n",
       "      <td>True</td>\n",
       "      <td>Chat</td>\n",
       "      <td>2016-02-18</td>\n",
       "      <td>2016-01-31</td>\n",
       "      <td>Support Center B</td>\n",
       "      <td>18.0</td>\n",
       "    </tr>\n",
       "  </tbody>\n",
       "</table>\n",
       "<p>218685 rows × 9 columns</p>\n",
       "</div>"
      ],
      "text/plain": [
       "       Customer Country/Region                   Issue Code 1  \\\n",
       "0                United States                 Account Access   \n",
       "1                United States                 Account Access   \n",
       "2                        India          Accreditation Program   \n",
       "3                United States      Ad and Keyword Management   \n",
       "4                United States      Ad and Keyword Management   \n",
       "...                        ...                            ...   \n",
       "218680                  Israel                          Tools   \n",
       "218681           United States                Unknown charges   \n",
       "218682           United States             Billing & Payments   \n",
       "218683                  Canada      Ad and Keyword Management   \n",
       "218684           United States  New Advertiser or New Account   \n",
       "\n",
       "        Service Request Id  Support Center Filter Support Channel  \\\n",
       "0               1278326353                   True            Chat   \n",
       "1               1278330809                   True            Chat   \n",
       "2               1278348606                   True            Chat   \n",
       "3               1278345988                   True            Chat   \n",
       "4               1278344530                   True            Chat   \n",
       "...                    ...                    ...             ...   \n",
       "218680          1324956430                   True            Chat   \n",
       "218681          1324974165                   True            Chat   \n",
       "218682          1324989334                   True            Chat   \n",
       "218683          1325007802                   True            Chat   \n",
       "218684          1324998464                   True            Chat   \n",
       "\n",
       "       Ticket Close Date Ticket Create Date     Vendor - Site  Time To Close  \n",
       "0             2015-02-01         2015-02-01  Support Center B            0.0  \n",
       "1             2015-02-01         2015-02-01  Support Center B            0.0  \n",
       "2             2015-02-01         2015-02-01  Support Center B            0.0  \n",
       "3             2015-02-01         2015-02-01  Support Center B            0.0  \n",
       "4             2015-02-01         2015-02-01  Support Center B            0.0  \n",
       "...                  ...                ...               ...            ...  \n",
       "218680        2016-02-12         2016-01-31  Support Center B           12.0  \n",
       "218681        2016-02-12         2016-01-31  Support Center B           12.0  \n",
       "218682        2016-02-13         2016-01-31  Support Center B           13.0  \n",
       "218683        2016-02-16         2016-01-31  Support Center B           16.0  \n",
       "218684        2016-02-18         2016-01-31  Support Center B           18.0  \n",
       "\n",
       "[218685 rows x 9 columns]"
      ]
     },
     "execution_count": 2,
     "metadata": {},
     "output_type": "execute_result"
    }
   ],
   "source": [
    "#Read data from excel\n",
    "data = pd.read_excel('SampleDataSet_CallCenter.xlsx')\n",
    "data"
   ]
  },
  {
   "cell_type": "code",
   "execution_count": 3,
   "metadata": {},
   "outputs": [
    {
     "name": "stdout",
     "output_type": "stream",
     "text": [
      "Information about the data:\n",
      "<class 'pandas.core.frame.DataFrame'>\n",
      "RangeIndex: 218685 entries, 0 to 218684\n",
      "Data columns (total 9 columns):\n",
      " #   Column                   Non-Null Count   Dtype         \n",
      "---  ------                   --------------   -----         \n",
      " 0   Customer Country/Region  218685 non-null  object        \n",
      " 1   Issue Code 1             218685 non-null  object        \n",
      " 2   Service Request Id       218685 non-null  int64         \n",
      " 3   Support Center Filter    218685 non-null  bool          \n",
      " 4   Support Channel          218668 non-null  object        \n",
      " 5   Ticket Close Date        218609 non-null  datetime64[ns]\n",
      " 6   Ticket Create Date       218685 non-null  datetime64[ns]\n",
      " 7   Vendor - Site            218685 non-null  object        \n",
      " 8   Time To Close            218609 non-null  float64       \n",
      "dtypes: bool(1), datetime64[ns](2), float64(1), int64(1), object(4)\n",
      "memory usage: 10.2+ MB\n",
      "Shape of the data\n",
      "(218685, 9) \n",
      "\n"
     ]
    }
   ],
   "source": [
    "print('Information about the data:')\n",
    "data.info()\n",
    "print('Shape of the data')\n",
    "print(data.shape, '\\n')"
   ]
  },
  {
   "cell_type": "code",
   "execution_count": 8,
   "metadata": {},
   "outputs": [],
   "source": [
    "#Rename columns for convennience\n",
    "data = data.rename(columns={'Customer Country/Region':'Country', 'Issue Code 1':'Issue', 'Support Channel':'Channel', 'Time To Close':'Duration'})\n"
   ]
  },
  {
   "cell_type": "code",
   "execution_count": 9,
   "metadata": {},
   "outputs": [
    {
     "data": {
      "text/plain": [
       "Country                     0\n",
       "Issue                       0\n",
       "Service Request Id          0\n",
       "Support Center Filter       0\n",
       "Channel                    17\n",
       "Ticket Close Date          76\n",
       "Ticket Create Date          0\n",
       "Vendor - Site               0\n",
       "Duration                   76\n",
       "County                   3298\n",
       "dtype: int64"
      ]
     },
     "execution_count": 9,
     "metadata": {},
     "output_type": "execute_result"
    }
   ],
   "source": [
    "#Replace np value text as NaN\n",
    "data['County'] = data.Country.replace('[No Value]',np.NaN)\n",
    "data.isna().sum()"
   ]
  },
  {
   "cell_type": "code",
   "execution_count": 11,
   "metadata": {},
   "outputs": [
    {
     "ename": "SyntaxError",
     "evalue": "invalid syntax (<ipython-input-11-fd72c5a472e3>, line 2)",
     "output_type": "error",
     "traceback": [
      "\u001b[1;36m  File \u001b[1;32m\"<ipython-input-11-fd72c5a472e3>\"\u001b[1;36m, line \u001b[1;32m2\u001b[0m\n\u001b[1;33m    corr = data.corr()sns.heatmap(corr, mask=np.zeros_like(corr, dtype=np.bool),cmap = sns.driverging_palette(220, 10, as_cmap=True),square=True, ax=ax)\u001b[0m\n\u001b[1;37m                      ^\u001b[0m\n\u001b[1;31mSyntaxError\u001b[0m\u001b[1;31m:\u001b[0m invalid syntax\n"
     ]
    }
   ],
   "source": [
    "f,ax = matplotlib.pyplot.subplots(figsize=(12, 8))\n",
    "corr = data.corr()sns.heatmap(corr, mask=np.zeros_like(corr, dtype=np.bool),cmap = sns.driverging_palette(220, 10, as_cmap=True),square=True, ax=ax)"
   ]
  },
  {
   "cell_type": "code",
   "execution_count": 12,
   "metadata": {},
   "outputs": [],
   "source": [
    "#Function for barplots\n",
    "def plotly_bar(df, title):\n",
    "    data_point = [go, Bar(\n",
    "    x = df.index,\n",
    "    y = df.values, \n",
    "    )]\n",
    "    layout = go.Layout(title=title)\n",
    "    return plotly.offline.iplot({'data':data_point, 'layout':layout})\n",
    "#Function for lineplots\n",
    "def lineplot(df,title,marker,color):\n",
    "    plt.figure(figsize=(20,8))\n",
    "    sns.lineplot(x=df.index, y=df.values,maker=marker,color=color)\n",
    "    plt.title(title,fontsize=20)\n",
    "    plt.show()\n",
    "#Function for donuts\n",
    "def plotly_point(df,title):\n",
    "    data_point = [go.Pie(\n",
    "    labels = df.index,\n",
    "    values = df.values,\n",
    "    hole = 0.6)]\n",
    "    layout = go.Layout(title=title)\n",
    "    return plotly.offline.iplot({'data':data_point,'layout':layout})\n"
   ]
  },
  {
   "cell_type": "code",
   "execution_count": 13,
   "metadata": {},
   "outputs": [
    {
     "ename": "AttributeError",
     "evalue": "'Series' object has no attribute 'values_counts'",
     "output_type": "error",
     "traceback": [
      "\u001b[1;31m---------------------------------------------------------------------------\u001b[0m",
      "\u001b[1;31mAttributeError\u001b[0m                            Traceback (most recent call last)",
      "\u001b[1;32m<ipython-input-13-15e65de5a856>\u001b[0m in \u001b[0;36m<module>\u001b[1;34m\u001b[0m\n\u001b[0;32m      2\u001b[0m \u001b[0mnum_countries\u001b[0m \u001b[1;33m=\u001b[0m \u001b[0mlen\u001b[0m\u001b[1;33m(\u001b[0m\u001b[0mdata\u001b[0m\u001b[1;33m.\u001b[0m\u001b[0mCountry\u001b[0m\u001b[1;33m.\u001b[0m\u001b[0munique\u001b[0m\u001b[1;33m(\u001b[0m\u001b[1;33m)\u001b[0m\u001b[1;33m)\u001b[0m\u001b[1;33m\u001b[0m\u001b[1;33m\u001b[0m\u001b[0m\n\u001b[0;32m      3\u001b[0m \u001b[1;31m#frequencies of problem reported by each country\u001b[0m\u001b[1;33m\u001b[0m\u001b[1;33m\u001b[0m\u001b[1;33m\u001b[0m\u001b[0m\n\u001b[1;32m----> 4\u001b[1;33m \u001b[0mcountry_count\u001b[0m \u001b[1;33m=\u001b[0m \u001b[0mdata\u001b[0m\u001b[1;33m.\u001b[0m\u001b[0mCountry\u001b[0m\u001b[1;33m.\u001b[0m\u001b[0mvalues_counts\u001b[0m\u001b[1;33m(\u001b[0m\u001b[1;33m)\u001b[0m\u001b[1;33m.\u001b[0m\u001b[0msort_values\u001b[0m\u001b[1;33m(\u001b[0m\u001b[0mascending\u001b[0m\u001b[1;33m=\u001b[0m\u001b[1;32mFalse\u001b[0m\u001b[1;33m)\u001b[0m\u001b[1;33m.\u001b[0m\u001b[0mhead\u001b[0m\u001b[1;33m(\u001b[0m\u001b[1;36m20\u001b[0m\u001b[1;33m)\u001b[0m\u001b[1;33m\u001b[0m\u001b[1;33m\u001b[0m\u001b[0m\n\u001b[0m\u001b[0;32m      5\u001b[0m \u001b[0mplotly_bar\u001b[0m\u001b[1;33m(\u001b[0m\u001b[0mcountry_count\u001b[0m\u001b[1;33m,\u001b[0m\u001b[0mtitle\u001b[0m \u001b[1;33m=\u001b[0m \u001b[1;34m\"Countries with most problems\"\u001b[0m\u001b[1;33m)\u001b[0m\u001b[1;33m\u001b[0m\u001b[1;33m\u001b[0m\u001b[0m\n",
      "\u001b[1;32mC:\\ProgramData\\Anaconda3\\lib\\site-packages\\pandas\\core\\generic.py\u001b[0m in \u001b[0;36m__getattr__\u001b[1;34m(self, name)\u001b[0m\n\u001b[0;32m   5137\u001b[0m             \u001b[1;32mif\u001b[0m \u001b[0mself\u001b[0m\u001b[1;33m.\u001b[0m\u001b[0m_info_axis\u001b[0m\u001b[1;33m.\u001b[0m\u001b[0m_can_hold_identifiers_and_holds_name\u001b[0m\u001b[1;33m(\u001b[0m\u001b[0mname\u001b[0m\u001b[1;33m)\u001b[0m\u001b[1;33m:\u001b[0m\u001b[1;33m\u001b[0m\u001b[1;33m\u001b[0m\u001b[0m\n\u001b[0;32m   5138\u001b[0m                 \u001b[1;32mreturn\u001b[0m \u001b[0mself\u001b[0m\u001b[1;33m[\u001b[0m\u001b[0mname\u001b[0m\u001b[1;33m]\u001b[0m\u001b[1;33m\u001b[0m\u001b[1;33m\u001b[0m\u001b[0m\n\u001b[1;32m-> 5139\u001b[1;33m             \u001b[1;32mreturn\u001b[0m \u001b[0mobject\u001b[0m\u001b[1;33m.\u001b[0m\u001b[0m__getattribute__\u001b[0m\u001b[1;33m(\u001b[0m\u001b[0mself\u001b[0m\u001b[1;33m,\u001b[0m \u001b[0mname\u001b[0m\u001b[1;33m)\u001b[0m\u001b[1;33m\u001b[0m\u001b[1;33m\u001b[0m\u001b[0m\n\u001b[0m\u001b[0;32m   5140\u001b[0m \u001b[1;33m\u001b[0m\u001b[0m\n\u001b[0;32m   5141\u001b[0m     \u001b[1;32mdef\u001b[0m \u001b[0m__setattr__\u001b[0m\u001b[1;33m(\u001b[0m\u001b[0mself\u001b[0m\u001b[1;33m,\u001b[0m \u001b[0mname\u001b[0m\u001b[1;33m:\u001b[0m \u001b[0mstr\u001b[0m\u001b[1;33m,\u001b[0m \u001b[0mvalue\u001b[0m\u001b[1;33m)\u001b[0m \u001b[1;33m->\u001b[0m \u001b[1;32mNone\u001b[0m\u001b[1;33m:\u001b[0m\u001b[1;33m\u001b[0m\u001b[1;33m\u001b[0m\u001b[0m\n",
      "\u001b[1;31mAttributeError\u001b[0m: 'Series' object has no attribute 'values_counts'"
     ]
    }
   ],
   "source": [
    "#Total number of countries\n",
    "num_countries = len(data.Country.unique())\n",
    "#frequencies of problem reported by each country\n",
    "country_count = data.Country.values_counts().sort_values(ascending=False).head(20)\n",
    "plotly_bar(country_count,title = \"Countries with most problems\")"
   ]
  },
  {
   "cell_type": "code",
   "execution_count": null,
   "metadata": {},
   "outputs": [],
   "source": [
    "#Total number of issues\n",
    "num_issues = len(data.Issue.unique())\n",
    "#frequency of issues reported\n",
    "issues_count = data.Issue.value_counts().sort_values().tail(22)\n",
    "#Plot the respective data\n",
    "plt.figure(figsize=(12,8))\n",
    "plt.title('Top reported problems', fontsize=20)\n",
    "issue_count.plot.barh(width=1,fontsize=15,color=Purple)\n",
    "plt.show()"
   ]
  },
  {
   "cell_type": "code",
   "execution_count": null,
   "metadata": {},
   "outputs": [],
   "source": [
    "#Count number of issues solved through each channel in percentage\n",
    "channel_count = data['Channel'].value_counts(normalize=True)\n",
    "#plot the data\n",
    "plotly_bar(channel_count,title='Support Channels')\n"
   ]
  },
  {
   "cell_type": "code",
   "execution_count": 14,
   "metadata": {},
   "outputs": [
    {
     "ename": "AttributeError",
     "evalue": "'Series' object has no attribute 'values_counts'",
     "output_type": "error",
     "traceback": [
      "\u001b[1;31m---------------------------------------------------------------------------\u001b[0m",
      "\u001b[1;31mAttributeError\u001b[0m                            Traceback (most recent call last)",
      "\u001b[1;32m<ipython-input-14-8a72d36057f2>\u001b[0m in \u001b[0;36m<module>\u001b[1;34m\u001b[0m\n\u001b[1;32m----> 1\u001b[1;33m \u001b[0mservice_center\u001b[0m \u001b[1;33m=\u001b[0m \u001b[0mdata\u001b[0m\u001b[1;33m[\u001b[0m\u001b[1;34m'Support Center Filter'\u001b[0m\u001b[1;33m]\u001b[0m\u001b[1;33m.\u001b[0m\u001b[0mvalues_counts\u001b[0m\u001b[1;33m(\u001b[0m\u001b[0mnormalize\u001b[0m\u001b[1;33m=\u001b[0m\u001b[1;32mTrue\u001b[0m\u001b[1;33m)\u001b[0m\u001b[1;33m\u001b[0m\u001b[1;33m\u001b[0m\u001b[0m\n\u001b[0m\u001b[0;32m      2\u001b[0m \u001b[0mplotly_donuts\u001b[0m\u001b[1;33m(\u001b[0m\u001b[0mservice_center\u001b[0m\u001b[1;33m,\u001b[0m\u001b[0mtitle\u001b[0m\u001b[1;33m=\u001b[0m\u001b[1;34m'Service Center vs. Online'\u001b[0m\u001b[1;33m)\u001b[0m\u001b[1;33m\u001b[0m\u001b[1;33m\u001b[0m\u001b[0m\n",
      "\u001b[1;32mC:\\ProgramData\\Anaconda3\\lib\\site-packages\\pandas\\core\\generic.py\u001b[0m in \u001b[0;36m__getattr__\u001b[1;34m(self, name)\u001b[0m\n\u001b[0;32m   5137\u001b[0m             \u001b[1;32mif\u001b[0m \u001b[0mself\u001b[0m\u001b[1;33m.\u001b[0m\u001b[0m_info_axis\u001b[0m\u001b[1;33m.\u001b[0m\u001b[0m_can_hold_identifiers_and_holds_name\u001b[0m\u001b[1;33m(\u001b[0m\u001b[0mname\u001b[0m\u001b[1;33m)\u001b[0m\u001b[1;33m:\u001b[0m\u001b[1;33m\u001b[0m\u001b[1;33m\u001b[0m\u001b[0m\n\u001b[0;32m   5138\u001b[0m                 \u001b[1;32mreturn\u001b[0m \u001b[0mself\u001b[0m\u001b[1;33m[\u001b[0m\u001b[0mname\u001b[0m\u001b[1;33m]\u001b[0m\u001b[1;33m\u001b[0m\u001b[1;33m\u001b[0m\u001b[0m\n\u001b[1;32m-> 5139\u001b[1;33m             \u001b[1;32mreturn\u001b[0m \u001b[0mobject\u001b[0m\u001b[1;33m.\u001b[0m\u001b[0m__getattribute__\u001b[0m\u001b[1;33m(\u001b[0m\u001b[0mself\u001b[0m\u001b[1;33m,\u001b[0m \u001b[0mname\u001b[0m\u001b[1;33m)\u001b[0m\u001b[1;33m\u001b[0m\u001b[1;33m\u001b[0m\u001b[0m\n\u001b[0m\u001b[0;32m   5140\u001b[0m \u001b[1;33m\u001b[0m\u001b[0m\n\u001b[0;32m   5141\u001b[0m     \u001b[1;32mdef\u001b[0m \u001b[0m__setattr__\u001b[0m\u001b[1;33m(\u001b[0m\u001b[0mself\u001b[0m\u001b[1;33m,\u001b[0m \u001b[0mname\u001b[0m\u001b[1;33m:\u001b[0m \u001b[0mstr\u001b[0m\u001b[1;33m,\u001b[0m \u001b[0mvalue\u001b[0m\u001b[1;33m)\u001b[0m \u001b[1;33m->\u001b[0m \u001b[1;32mNone\u001b[0m\u001b[1;33m:\u001b[0m\u001b[1;33m\u001b[0m\u001b[1;33m\u001b[0m\u001b[0m\n",
      "\u001b[1;31mAttributeError\u001b[0m: 'Series' object has no attribute 'values_counts'"
     ]
    }
   ],
   "source": [
    "service_center = data['Support Center Filter'].values_counts(normalize=True)\n",
    "plotly_donuts(service_center,title='Service Center vs. Online')"
   ]
  },
  {
   "cell_type": "code",
   "execution_count": 15,
   "metadata": {},
   "outputs": [
    {
     "ename": "AttributeError",
     "evalue": "'Series' object has no attribute 'values_counts'",
     "output_type": "error",
     "traceback": [
      "\u001b[1;31m---------------------------------------------------------------------------\u001b[0m",
      "\u001b[1;31mAttributeError\u001b[0m                            Traceback (most recent call last)",
      "\u001b[1;32m<ipython-input-15-911f2502d3f2>\u001b[0m in \u001b[0;36m<module>\u001b[1;34m\u001b[0m\n\u001b[0;32m      5\u001b[0m \u001b[1;31m#Add abbreviation for months\u001b[0m\u001b[1;33m\u001b[0m\u001b[1;33m\u001b[0m\u001b[1;33m\u001b[0m\u001b[0m\n\u001b[0;32m      6\u001b[0m \u001b[0mdata\u001b[0m\u001b[1;33m[\u001b[0m\u001b[1;34m'Month'\u001b[0m\u001b[1;33m]\u001b[0m \u001b[1;33m=\u001b[0m \u001b[0mdata\u001b[0m\u001b[1;33m[\u001b[0m\u001b[1;34m'Month'\u001b[0m\u001b[1;33m]\u001b[0m\u001b[1;33m.\u001b[0m\u001b[0mapply\u001b[0m\u001b[1;33m(\u001b[0m\u001b[1;32mlambda\u001b[0m \u001b[0mx\u001b[0m \u001b[1;33m:\u001b[0m \u001b[0mcalendar\u001b[0m\u001b[1;33m.\u001b[0m\u001b[0mmonth_abbr\u001b[0m\u001b[1;33m[\u001b[0m\u001b[0mx\u001b[0m\u001b[1;33m]\u001b[0m\u001b[1;33m)\u001b[0m\u001b[1;33m\u001b[0m\u001b[1;33m\u001b[0m\u001b[0m\n\u001b[1;32m----> 7\u001b[1;33m \u001b[0mmonth_count\u001b[0m \u001b[1;33m=\u001b[0m \u001b[0mdata\u001b[0m\u001b[1;33m[\u001b[0m\u001b[1;34m'Month'\u001b[0m\u001b[1;33m]\u001b[0m\u001b[1;33m.\u001b[0m\u001b[0mvalues_counts\u001b[0m\u001b[1;33m(\u001b[0m\u001b[1;33m)\u001b[0m\u001b[1;33m\u001b[0m\u001b[1;33m\u001b[0m\u001b[0m\n\u001b[0m\u001b[0;32m      8\u001b[0m \u001b[0mfig\u001b[0m\u001b[1;33m,\u001b[0m \u001b[1;33m(\u001b[0m\u001b[0max1\u001b[0m\u001b[1;33m,\u001b[0m \u001b[0max2\u001b[0m\u001b[1;33m)\u001b[0m \u001b[1;33m=\u001b[0m \u001b[0mplt\u001b[0m\u001b[1;33m.\u001b[0m\u001b[0msubplots\u001b[0m\u001b[1;33m(\u001b[0m\u001b[1;36m2\u001b[0m\u001b[1;33m,\u001b[0m\u001b[0mfigsize\u001b[0m\u001b[1;33m=\u001b[0m\u001b[1;33m(\u001b[0m\u001b[1;36m20\u001b[0m\u001b[1;33m,\u001b[0m\u001b[1;36m10\u001b[0m\u001b[1;33m)\u001b[0m\u001b[1;33m)\u001b[0m\u001b[1;33m\u001b[0m\u001b[1;33m\u001b[0m\u001b[0m\n\u001b[0;32m      9\u001b[0m \u001b[1;31m#Plot and customize first subplot\u001b[0m\u001b[1;33m\u001b[0m\u001b[1;33m\u001b[0m\u001b[1;33m\u001b[0m\u001b[0m\n",
      "\u001b[1;32mC:\\ProgramData\\Anaconda3\\lib\\site-packages\\pandas\\core\\generic.py\u001b[0m in \u001b[0;36m__getattr__\u001b[1;34m(self, name)\u001b[0m\n\u001b[0;32m   5137\u001b[0m             \u001b[1;32mif\u001b[0m \u001b[0mself\u001b[0m\u001b[1;33m.\u001b[0m\u001b[0m_info_axis\u001b[0m\u001b[1;33m.\u001b[0m\u001b[0m_can_hold_identifiers_and_holds_name\u001b[0m\u001b[1;33m(\u001b[0m\u001b[0mname\u001b[0m\u001b[1;33m)\u001b[0m\u001b[1;33m:\u001b[0m\u001b[1;33m\u001b[0m\u001b[1;33m\u001b[0m\u001b[0m\n\u001b[0;32m   5138\u001b[0m                 \u001b[1;32mreturn\u001b[0m \u001b[0mself\u001b[0m\u001b[1;33m[\u001b[0m\u001b[0mname\u001b[0m\u001b[1;33m]\u001b[0m\u001b[1;33m\u001b[0m\u001b[1;33m\u001b[0m\u001b[0m\n\u001b[1;32m-> 5139\u001b[1;33m             \u001b[1;32mreturn\u001b[0m \u001b[0mobject\u001b[0m\u001b[1;33m.\u001b[0m\u001b[0m__getattribute__\u001b[0m\u001b[1;33m(\u001b[0m\u001b[0mself\u001b[0m\u001b[1;33m,\u001b[0m \u001b[0mname\u001b[0m\u001b[1;33m)\u001b[0m\u001b[1;33m\u001b[0m\u001b[1;33m\u001b[0m\u001b[0m\n\u001b[0m\u001b[0;32m   5140\u001b[0m \u001b[1;33m\u001b[0m\u001b[0m\n\u001b[0;32m   5141\u001b[0m     \u001b[1;32mdef\u001b[0m \u001b[0m__setattr__\u001b[0m\u001b[1;33m(\u001b[0m\u001b[0mself\u001b[0m\u001b[1;33m,\u001b[0m \u001b[0mname\u001b[0m\u001b[1;33m:\u001b[0m \u001b[0mstr\u001b[0m\u001b[1;33m,\u001b[0m \u001b[0mvalue\u001b[0m\u001b[1;33m)\u001b[0m \u001b[1;33m->\u001b[0m \u001b[1;32mNone\u001b[0m\u001b[1;33m:\u001b[0m\u001b[1;33m\u001b[0m\u001b[1;33m\u001b[0m\u001b[0m\n",
      "\u001b[1;31mAttributeError\u001b[0m: 'Series' object has no attribute 'values_counts'"
     ]
    }
   ],
   "source": [
    "import calendar\n",
    "issued_date = data['Ticket Create Date'].value_counts()\n",
    "#Add month as a new column\n",
    "data['Month'] = data['Ticket Create Date'].dt.month\n",
    "#Add abbreviation for months\n",
    "data['Month'] = data['Month'].apply(lambda x : calendar.month_abbr[x])\n",
    "month_count = data['Month'].values_counts()\n",
    "fig, (ax1, ax2) = plt.subplots(2,figsize=(20,10))\n",
    "#Plot and customize first subplot\n",
    "sns.lineplot(x=issued_date.index,y=inssued_date.values,ax=ax1)\n",
    "ax1.set(title=\"Ploblems over time\")\n",
    "ax1.axhline(issued_date.values.mean(), color='red', linewidth=1, linestyle='-.')\n",
    "\n",
    "#Plot and customize second subplot\n",
    "sns.lineplot(x=month_count.index,y=month_count.values,ax=ax2, color='gray', maker='o')\n",
    "ax2.set(title='Monthly Trends')\n",
    "ax2.axhline(month_count.values.mean(),color='blue',linewidth=1,linestyle='-.')\n",
    "plt.show()"
   ]
  },
  {
   "cell_type": "code",
   "execution_count": null,
   "metadata": {},
   "outputs": [],
   "source": [
    "#Average duration\n",
    "avg_duration = data.groupby('Month').Duration.mean()\n",
    "#Plot data\n",
    "lineplot(avg_duration,title=\"Time to resolve on average\",marker='o',color='purple')\n",
    "#max Duration\n",
    "max_duration = data.groupby('Month').Duration.max()\n",
    "#Plot the data\n",
    "lineplot(max_duration,title='Longest Time to Resolve',marker='o',color='gray')"
   ]
  },
  {
   "cell_type": "code",
   "execution_count": null,
   "metadata": {},
   "outputs": [],
   "source": [
    "vendor_count= data['Vendor - Site'].values_counts()\n",
    "plotly_bar(vendor_count,title=\"Most Working Support Center\")"
   ]
  },
  {
   "cell_type": "code",
   "execution_count": null,
   "metadata": {},
   "outputs": [],
   "source": [
    "data_survey = pd.read_excel('SampleDataSet_CallCenter.xlsx'),sheet_name='Survey'\n",
    "survey_data.head()"
   ]
  },
  {
   "cell_type": "code",
   "execution_count": 16,
   "metadata": {},
   "outputs": [
    {
     "ename": "NameError",
     "evalue": "name 'survey_data' is not defined",
     "output_type": "error",
     "traceback": [
      "\u001b[1;31m---------------------------------------------------------------------------\u001b[0m",
      "\u001b[1;31mNameError\u001b[0m                                 Traceback (most recent call last)",
      "\u001b[1;32m<ipython-input-16-342bea2a8186>\u001b[0m in \u001b[0;36m<module>\u001b[1;34m\u001b[0m\n\u001b[0;32m     11\u001b[0m             \u001b[0mnew_data\u001b[0m \u001b[1;33m=\u001b[0m \u001b[0mdata\u001b[0m\u001b[1;33m.\u001b[0m\u001b[0mrename\u001b[0m\u001b[1;33m(\u001b[0m\u001b[0mcolumns\u001b[0m \u001b[1;33m=\u001b[0m \u001b[0mrename_col\u001b[0m\u001b[1;33m)\u001b[0m\u001b[1;33m\u001b[0m\u001b[1;33m\u001b[0m\u001b[0m\n\u001b[0;32m     12\u001b[0m     \u001b[1;32mreturn\u001b[0m \u001b[0mnew_data\u001b[0m\u001b[1;33m\u001b[0m\u001b[1;33m\u001b[0m\u001b[0m\n\u001b[1;32m---> 13\u001b[1;33m \u001b[0mdata_survey\u001b[0m \u001b[1;33m=\u001b[0m \u001b[0mrename_column\u001b[0m\u001b[1;33m(\u001b[0m\u001b[0msurvey_data\u001b[0m\u001b[1;33m)\u001b[0m\u001b[1;33m\u001b[0m\u001b[1;33m\u001b[0m\u001b[0m\n\u001b[0m",
      "\u001b[1;31mNameError\u001b[0m: name 'survey_data' is not defined"
     ]
    }
   ],
   "source": [
    "def rename_column(data):\n",
    "    old_columns = data.columns\n",
    "    new_column = []\n",
    "    for col in old_columns:\n",
    "        text = col.split()\n",
    "        if len(text)==2:\n",
    "            new_column.append(text[0]+'_'+text[1])\n",
    "        else:\n",
    "            new.column.append(text[0]+'_'+text[1]+'_'+text[2])\n",
    "            rename_col = dict(zip(old_column,new_column))\n",
    "            new_data = data.rename(columns = rename_col)\n",
    "    return new_data\n",
    "data_survey = rename_column(survey_data)"
   ]
  },
  {
   "cell_type": "code",
   "execution_count": null,
   "metadata": {},
   "outputs": [],
   "source": [
    "resolved_count = data_survey['Is_Issue_Resolved'].value_counts(normalize=True)\n",
    "plotly_donuts(resolved_count,title=\"Solved Vs. Unsolved\")"
   ]
  },
  {
   "cell_type": "code",
   "execution_count": null,
   "metadata": {},
   "outputs": [],
   "source": [
    "data_survey['ProductQuality_9pt_act'] = data_survey['ProductQuality_9pt_act'].replace(\"Dont know/refused\",np.NaN)\n",
    "data_survey['ProductQuality_9pt_act'] = data_survey['ProductQuality_9pt_act'].replace(\"Not Received\",np.NaN)\n",
    "mean_pro = round(data_survey['ProductQuality_9pt_act'].mean())\n",
    "data_survey['ProductQuality_9pt_act'] = data_survey['ProductQuality_9pt_act'].fillna(mean_pro)"
   ]
  },
  {
   "cell_type": "code",
   "execution_count": null,
   "metadata": {},
   "outputs": [],
   "source": [
    "trace0 = go.Box(y=data_survey['ProductQuality_9pt_act'][data_survey['Is_Issue_Resolved']==\"yes\"],name=\"Issue Resolved\")\n",
    "trace1 = go.Box(y=data_survey['ProductQuality_9pt_act'][data_survey['Is_Issue_Resolved']==\"no\"],name=\"Issue Not Resolved\")\n",
    "layout= go.Layout(title=\"Product Quality Responses \")\n",
    "data_point = [trace0,trace1]\n",
    "plotly.offline.iplot({'data':data_point,'layout':layout})"
   ]
  },
  {
   "cell_type": "code",
   "execution_count": null,
   "metadata": {},
   "outputs": [],
   "source": [
    "trace0 = go.Box(y=data_survey['QualityOfSupport_9pt_act'][data_survey['Is_Issue_Resolved']==\"yes\"],name=\"Issue Resolved\")\n",
    "trace1 = go.Box(y=data_survey['QualityOfSupport_9pt_act'][data_survey['Is_Issue_Resolved']==\"no\"],name=\"Issue Not Resolved\")\n",
    "layout= go.Layout(title=\"Service Quality Responses \")\n",
    "data_point = [trace0,trace1]\n",
    "plotly.offline.iplot({'data':data_point,'layout':layout})"
   ]
  },
  {
   "cell_type": "code",
   "execution_count": null,
   "metadata": {},
   "outputs": [],
   "source": [
    "#Service in term of efificiency, knowledge and professionalism\n",
    "def text_to_nan(df,col):\n",
    "    df[col] = df[col].replace(\"dont know/refused\", np.NaN)\n",
    "    mean = round(df[col].mean())\n",
    "    df[col] = df[col].fillna(mean)\n",
    "def plotly_3_box(df,col1,col2,col3,name,title):\n",
    "    trace0 = go.Box(=df[col1],name = 'Efficiency')\n",
    "    trace1 = go.Box(=df[col2],name = 'Knowledge')\n",
    "    trace2 = go.Box(=df[col3],name = 'Professionalism')\n",
    "    data = [trace0,trace1,trace2]\n",
    "    laout = go.Layout(title=title)\n",
    "    return plotly.offline.iplot({'data':data,'layout':layout})"
   ]
  },
  {
   "cell_type": "code",
   "execution_count": null,
   "metadata": {},
   "outputs": [],
   "source": [
    "text_to_nan(data_survey,'ServiceSpecialistEfficiency_act')\n",
    "text_to_nan(data_survey,'ServiceSpecialistKnowledge_act')\n",
    "text_to_nan(data_survey,'ServiceSpecialistProfessionalism_act')\n",
    "plotly_3_box(data_survey,'ServiceSpecialistEfficiency_act','ServiceSpecialistKnowledge_act','ServiceSpecialistKnowledge_act',None,'Efficiency Vs Knowledge Vs Professionalism')"
   ]
  },
  {
   "cell_type": "code",
   "execution_count": null,
   "metadata": {},
   "outputs": [],
   "source": [
    "#Subset Data\n",
    "survey_resp = data_survey[['Is_Issue_Resolved','SR_Number','QualityOfSupport_9pt_act']]\n",
    "req_data = data[['Service Request Id','Country','Issue','Support Center Filter','Cahnnel','Vendor - Site','Duration']]\n",
    "#Rename Column\n",
    "req_data = req_data.rename(columns={'Service Request Id':'SR_Number'})"
   ]
  },
  {
   "cell_type": "code",
   "execution_count": null,
   "metadata": {},
   "outputs": [],
   "source": [
    "combined = pd.merge(req_data,survey_resp,how='inner',on='SR_Number')\n",
    "combined.sample(n=5)"
   ]
  },
  {
   "cell_type": "code",
   "execution_count": null,
   "metadata": {},
   "outputs": [],
   "source": [
    "#Generate crosstab for issues as yes or no\n",
    "issue_resolved = pd.crosstab(combined['Issue'],combined['Is_Issue_Resolved'])\n",
    "#Proportion of the above data\n",
    "issue = issue_resolved.div(issue_resolved.sum(1).astype(float),axis=0).sort_index()\n",
    "#Plot the data\n",
    "fig = go.Figure()\n",
    "fig.add_trace(go.Bar(x = issue.index,\n",
    "                    y = issue['no'].values,name=\"NO\",width=1))\n",
    "fig.add_trace(go.Bar(x = issue.index,\n",
    "                    y = issue['yes'].values,name=\"YES\",width=1))\n",
    "\n",
    "fig.update_layout(barmode='stack',title=\"Most unsolved Issues\")\n",
    "\n"
   ]
  },
  {
   "cell_type": "code",
   "execution_count": null,
   "metadata": {},
   "outputs": [],
   "source": [
    "support_channel = pd.crosstab(combined['Channel'],combined['Support Center Filter'])\n",
    "support_channel = support_channel.div(support_channel.sum(1).astype(float),axis=0)\n",
    "fig1 = go.Figure()\n",
    "fig1.add_trace(go.Bar(x = support_channel.index,\n",
    "                     y = support_channel[True].values,name='Service Center', width=0.5))\n",
    "display(fig1.update_layout(barmode='stack',title=\"Problem solving Channels\"))\n",
    "channel_resolve = pd.crosstab(combined['Channel'],combined['Is_Issue_Resolved']).sort_values('Channel',ascending=False)\n",
    "\n",
    "channel_resolve =channel_resolve.div(channel_resolve.sum(1).astype(float),axis=0)\n",
    "\n",
    "#PLot the Data\n",
    "fig2 = go.Figure()\n",
    "fig2.add_trace(go.Bar(x = channel_resolve.index,\n",
    "                     y = channel_resolve['no'].values,name='Unsolved', width=0.5))\n",
    "fig2.add_trace(go.Bar(x = channel_resolve.index,\n",
    "                     y = channel_resolve['yes'].values,name='Solved', width=0.5))\n",
    "display(fig2.update_layout(barmode='stack',title=\"Actual Problem Solvers\"))\n"
   ]
  },
  {
   "cell_type": "code",
   "execution_count": null,
   "metadata": {},
   "outputs": [],
   "source": [
    "vendor_resolve = pd.crosstab(combined['Vendor - Site'],combined['Is_Issue_Resolved'])\n",
    "vendor_resolve = vendor_resolve.div(vendor_resolve.sum(1).astype('float'),axis=0)\n",
    "\n",
    "fig2 = go.Figure()\n",
    "fig2.add_trace(go.Bar(x = vendor_resolve.index,\n",
    "                     y = vendor_resolve['no'].values,name='Unsolved', width=0.5))\n",
    "fig2.add_trace(go.Bar(x = vendor_resolve.index,\n",
    "                     y = vendor_resolve['yes'].values,name='Solved', width=0.5))\n",
    "display(fig2.update_layout(barmode='stack',title=\"Effective Support Vendor\"))\n"
   ]
  },
  {
   "cell_type": "code",
   "execution_count": null,
   "metadata": {},
   "outputs": [],
   "source": [
    "trace0 = go.Box(y=comnined['Duration'][data_survey['is_Issue_Resolved']==\"yes\"],name=\"Issue Resolved\")\n",
    "trace1 = go.Box(y=comnined['Duration'][data_survey['is_Issue_Resolved']==\"no\"],name=\"Issue  Not Resolved\")\n",
    "layout = go.Layout(title=\"Duration vs Issues\")\n",
    "data_point =[trace0, trace1]\n",
    "plotly.offline.iplot({'data':data_point,'layout':layout})"
   ]
  }
 ],
 "metadata": {
  "kernelspec": {
   "display_name": "Python 3",
   "language": "python",
   "name": "python3"
  },
  "language_info": {
   "codemirror_mode": {
    "name": "ipython",
    "version": 3
   },
   "file_extension": ".py",
   "mimetype": "text/x-python",
   "name": "python",
   "nbconvert_exporter": "python",
   "pygments_lexer": "ipython3",
   "version": "3.8.5"
  }
 },
 "nbformat": 4,
 "nbformat_minor": 4
}
